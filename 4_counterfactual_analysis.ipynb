{
 "cells": [
  {
   "cell_type": "markdown",
   "id": "22dfaf15",
   "metadata": {},
   "source": [
    "### Counterfactual analysis"
   ]
  },
  {
   "cell_type": "code",
   "execution_count": null,
   "id": "initial_id",
   "metadata": {
    "ExecuteTime": {
     "end_time": "2024-04-10T14:46:42.145299300Z",
     "start_time": "2024-04-10T14:46:30.911475100Z"
    },
    "collapsed": true,
    "jupyter": {
     "outputs_hidden": true
    }
   },
   "outputs": [],
   "source": [
    "from utils_others import *\n",
    "import json"
   ]
  },
  {
   "cell_type": "code",
   "execution_count": null,
   "id": "fbd2507b1c9346db",
   "metadata": {
    "ExecuteTime": {
     "end_time": "2024-04-10T14:46:42.167720700Z",
     "start_time": "2024-04-10T14:46:42.147815Z"
    },
    "collapsed": false,
    "jupyter": {
     "outputs_hidden": false
    }
   },
   "outputs": [],
   "source": [
    "with open('config.json', 'r', encoding='utf-8') as f:\n",
    "    config = json.load(f)\n",
    "\n",
    "api_key = config[\"GEMINI_API_KEY\"]\n"
   ]
  },
  {
   "cell_type": "code",
   "execution_count": null,
   "id": "27711763b12dd009",
   "metadata": {
    "ExecuteTime": {
     "end_time": "2024-04-10T14:46:42.187294800Z",
     "start_time": "2024-04-10T14:46:42.166720600Z"
    },
    "collapsed": false,
    "jupyter": {
     "outputs_hidden": false
    }
   },
   "outputs": [],
   "source": [
    "gemini_hypers = {\n",
    "    'temp': 0.2,  \n",
    "    'alpha': 0.95,\n",
    "    'beta': 0.3,\n",
    "    'basic': [False],\n",
    "    'settings': [SerializerSettings(base=10, prec=3, signed=True,half_bin_correction=True)],\n",
    "}\n",
    "\n",
    "model_hypers = {\n",
    "    'gemini-1.0-pro': {'model': 'gemini-1.0-pro', **gemini_hypers},\n",
    "}\n",
    "\n",
    "model_predict_fns = {\n",
    "    'gemini-1.0-pro': get_llmtime_predictions_data,\n",
    "}\n"
   ]
  },
  {
   "cell_type": "code",
   "execution_count": null,
   "id": "9ce01411623a3fec",
   "metadata": {
    "ExecuteTime": {
     "end_time": "2024-04-10T14:46:42.381691500Z",
     "start_time": "2024-04-10T14:46:42.179723400Z"
    },
    "collapsed": false,
    "jupyter": {
     "outputs_hidden": false
    }
   },
   "outputs": [],
   "source": [
    "datasets = get_datasets()  \n",
    "datasets_tmp = get_memorization_datasets()\n",
    "datasets.update(datasets_tmp)"
   ]
  },
  {
   "cell_type": "code",
   "execution_count": null,
   "id": "ddd96fa2b4a8e03",
   "metadata": {
    "ExecuteTime": {
     "end_time": "2024-04-10T14:46:42.430087Z",
     "start_time": "2024-04-10T14:46:42.380698200Z"
    },
    "collapsed": false,
    "jupyter": {
     "outputs_hidden": false
    }
   },
   "outputs": [],
   "source": [
    "# The free version of Gemini always throws an error (security failure) when running the IstanbulTraffic dataset. While other datasets occasionally throw errors.\n",
    "dataset_name = 'WineDataset'  \n",
    "train, test = datasets[dataset_name]\n",
    "\n",
    "num_samples = 10 "
   ]
  },
  {
   "cell_type": "code",
   "execution_count": null,
   "id": "abafa4c2eab1f5ef",
   "metadata": {
    "ExecuteTime": {
     "end_time": "2024-04-10T14:46:42.431072100Z",
     "start_time": "2024-04-10T14:46:42.396856500Z"
    },
    "collapsed": false,
    "jupyter": {
     "outputs_hidden": false
    }
   },
   "outputs": [],
   "source": [
    "def adding_noise(train, loc=0, steps=4, std=5):\n",
    "    np.random.seed(42)\n",
    "    noise = np.random.normal(0, std, steps)\n",
    "    train[loc:(loc+steps)] += noise\n",
    "    return train"
   ]
  },
  {
   "cell_type": "code",
   "execution_count": null,
   "id": "f2c83fabad4deb83",
   "metadata": {
    "ExecuteTime": {
     "end_time": "2024-04-10T14:48:10.784627300Z",
     "start_time": "2024-04-10T14:46:42.421467100Z"
    },
    "collapsed": false,
    "jupyter": {
     "outputs_hidden": false
    }
   },
   "outputs": [],
   "source": [
    "period = 12\n",
    "std = 0.1*(train.max()-train.min())\n",
    "num_iteration = int(len(train)/period)\n",
    "\n",
    "out_counterfactual = {}\n",
    "MSE =[]\n",
    "MAE =[]\n",
    "MAPE = []\n",
    "R = []\n",
    "\n",
    "for index in range(num_iteration):\n",
    "    MSE_tmp =[]\n",
    "    MAE_tmp =[]\n",
    "    MAPE_tmp = []\n",
    "    R_tmp = []\n",
    "    train_tmp = copy.deepcopy(train)\n",
    "    loc = index * period\n",
    "    train_tmp = adding_noise(train_tmp, loc=loc, steps=period, std=std)\n",
    "    if index > 0:\n",
    "        time.sleep(60) \n",
    "    out_gemini_pro, out_gemini_pro_number = prediction_gemini(model_predict_fns, train, test, model_hypers, num_samples=num_samples, whether_blanket=False, dataset_name=dataset_name, genai_key=api_key)\n",
    "\n",
    "    mse_amount = 0.0\n",
    "    mae_amount = 0.0\n",
    "    mape_amount = 0.0\n",
    "    rsquare_amount = 0.0\n",
    "    for i in range(num_samples):\n",
    "        # seq_pred = out_gemini_pro[dataset_name]['samples'].iloc[i, :] \n",
    "        seq_pred = out_gemini_pro_number[dataset_name]['samples'].iloc[i, :] \n",
    "        \n",
    "        mse = mean_squared_error(test, seq_pred)\n",
    "        mae = mean_absolute_error(test, seq_pred)\n",
    "        mape = metrics.mean_absolute_percentage_error(test, seq_pred)*100\n",
    "        r2 = r2_score(test, seq_pred)\n",
    "    \n",
    "        MSE_tmp.append(mse)\n",
    "        MAE_tmp.append(mae)\n",
    "        MAPE_tmp.append(mape)\n",
    "        R_tmp.append(r2)\n",
    "    \n",
    "    MSE.append(MSE_tmp)\n",
    "    MAE.append(MAE_tmp)\n",
    "    MAPE.append(MAPE_tmp)\n",
    "    R.append(R_tmp)\n"
   ]
  },
  {
   "cell_type": "code",
   "execution_count": null,
   "id": "229ee28327a4dce8",
   "metadata": {
    "ExecuteTime": {
     "end_time": "2024-04-10T14:48:13.909609900Z",
     "start_time": "2024-04-10T14:48:12.848055500Z"
    },
    "collapsed": false,
    "jupyter": {
     "outputs_hidden": false
    }
   },
   "outputs": [],
   "source": [
    "fig_counterfactual(R, metric_name='R^2', dataset_name='WineDataset')"
   ]
  }
 ],
 "metadata": {
  "kernelspec": {
   "display_name": "Python 3 (ipykernel)",
   "language": "python",
   "name": "python3"
  },
  "language_info": {
   "codemirror_mode": {
    "name": "ipython",
    "version": 3
   },
   "file_extension": ".py",
   "mimetype": "text/x-python",
   "name": "python",
   "nbconvert_exporter": "python",
   "pygments_lexer": "ipython3",
   "version": "3.11.8"
  }
 },
 "nbformat": 4,
 "nbformat_minor": 5
}
