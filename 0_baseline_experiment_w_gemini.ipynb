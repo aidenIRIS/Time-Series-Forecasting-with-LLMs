{
 "cells": [
  {
   "cell_type": "markdown",
   "id": "09937be4",
   "metadata": {},
   "source": [
    "## Experiments (baseline with GEMINI)\n",
    "This notebook is used for conduct the baseline prediction with the pre-trained LLMs. "
   ]
  },
  {
   "cell_type": "code",
   "execution_count": 1,
   "id": "initial_id",
   "metadata": {
    "ExecuteTime": {
     "end_time": "2024-04-10T13:56:49.155077500Z",
     "start_time": "2024-04-10T13:56:39.592714300Z"
    },
    "collapsed": true,
    "jupyter": {
     "outputs_hidden": true
    }
   },
   "outputs": [],
   "source": [
    "from utils_others import *"
   ]
  },
  {
   "cell_type": "code",
   "execution_count": null,
   "id": "4cf8aebe69a0f25a",
   "metadata": {
    "ExecuteTime": {
     "end_time": "2024-04-10T13:49:56.949729400Z",
     "start_time": "2024-04-10T13:49:56.936547200Z"
    },
    "collapsed": false,
    "jupyter": {
     "outputs_hidden": false
    }
   },
   "outputs": [],
   "source": [
    "genai_api_key=\"\"\n",
    "# put your gemini api key here"
   ]
  },
  {
   "cell_type": "code",
   "execution_count": null,
   "id": "7b92c7543f2eb2e8",
   "metadata": {
    "ExecuteTime": {
     "end_time": "2024-04-10T13:49:56.969729900Z",
     "start_time": "2024-04-10T13:49:56.954729400Z"
    },
    "collapsed": false,
    "jupyter": {
     "outputs_hidden": false
    }
   },
   "outputs": [],
   "source": [
    "# 模型设定\n",
    "gemini_hypers = {\n",
    "    # temp=[0.2, 0.4, 0.6, 0.8, 1.0],\n",
    "    'temp': 0.2,  \n",
    "    'alpha': 0.95,\n",
    "    'beta': 0.3,\n",
    "    'basic': [False],\n",
    "    'settings': [SerializerSettings(base=10, prec=3, signed=True,half_bin_correction=True)],\n",
    "    # prec可能=3\n",
    "}\n",
    "\n",
    "model_hypers = {\n",
    "    'gemini-1.0-pro': {'model': 'gemini-1.0-pro', **gemini_hypers},\n",
    "    # 'gemini-pro': {'model': 'gemini-pro', **gemini_hypers}\n",
    "}\n",
    "\n",
    "model_predict_fns = {\n",
    "    'gemini-1.0-pro': get_llmtime_predictions_data,  \n",
    "    # 'gemini-pro': get_llmtime_predictions_data\n",
    "}\n"
   ]
  },
  {
   "cell_type": "code",
   "execution_count": null,
   "id": "e9dec56491e6776d",
   "metadata": {
    "ExecuteTime": {
     "end_time": "2024-04-10T13:49:57.142716900Z",
     "start_time": "2024-04-10T13:49:56.967728500Z"
    },
    "collapsed": false,
    "jupyter": {
     "outputs_hidden": false
    }
   },
   "outputs": [],
   "source": [
    "datasets = get_datasets()  \n",
    "datasets_tmp = get_memorization_datasets()\n",
    "datasets.update(datasets_tmp)"
   ]
  },
  {
   "cell_type": "code",
   "execution_count": null,
   "id": "a65033b97ace9eef",
   "metadata": {
    "ExecuteTime": {
     "end_time": "2024-04-10T13:49:57.153717800Z",
     "start_time": "2024-04-10T13:49:57.139719100Z"
    },
    "collapsed": false,
    "jupyter": {
     "outputs_hidden": false
    }
   },
   "outputs": [],
   "source": [
    "dataset_name = 'WineDataset'\n",
    "train, test = datasets[dataset_name]\n",
    "\n",
    "num_samples = 10 \n"
   ]
  },
  {
   "cell_type": "code",
   "execution_count": null,
   "id": "f273361186442fd9",
   "metadata": {
    "ExecuteTime": {
     "end_time": "2024-04-10T13:51:50.155195400Z",
     "start_time": "2024-04-10T13:49:57.154717400Z"
    },
    "collapsed": false,
    "jupyter": {
     "outputs_hidden": false
    }
   },
   "outputs": [],
   "source": [
    "out_gemini_pro, out_gemini_pro_number = prediction_gemini(model_predict_fns, train, test, model_hypers, num_samples=num_samples, whether_blanket=False, dataset_name='WineDataset', genai_key=genai_api_key)"
   ]
  },
  {
   "cell_type": "code",
   "execution_count": null,
   "id": "dc5ddf307bbb9f16",
   "metadata": {
    "ExecuteTime": {
     "start_time": "2024-04-10T13:51:50.152110300Z"
    },
    "collapsed": false,
    "jupyter": {
     "outputs_hidden": false
    }
   },
   "outputs": [],
   "source": [
    "plot_preds_w_train_test(train, test, out_gemini_pro_number['WineDataset'], model_name='gemini-1.0-pro', ds_name='WineDataset', show_samples=False)\n"
   ]
  },
  {
   "cell_type": "code",
   "execution_count": null,
   "id": "3cd41c5000718220",
   "metadata": {
    "collapsed": false,
    "jupyter": {
     "outputs_hidden": false
    }
   },
   "outputs": [],
   "source": [
    "plot_preds_w_test(test, out_gemini_pro_number['WineDataset'], model_name='gemini-1.0-pro', ds_name='WineDataset', show_samples=False)"
   ]
  },
  {
   "cell_type": "code",
   "execution_count": null,
   "id": "2497807aaf9409a1",
   "metadata": {
    "collapsed": false,
    "jupyter": {
     "outputs_hidden": false
    }
   },
   "outputs": [],
   "source": [
    "\n",
    "mse_mean, mae_mean, mape_mean, r2_mean = metrics_used(test=test, dataset_name=dataset_name, original_pred=out_gemini_pro_number, num_samples=num_samples)"
   ]
  },
  {
   "cell_type": "markdown",
   "id": "65a0035f",
   "metadata": {},
   "source": [
    "Hyperparameter Tuning"
   ]
  },
  {
   "cell_type": "code",
   "execution_count": null,
   "id": "a9d686eecd5587e5",
   "metadata": {
    "collapsed": false,
    "jupyter": {
     "outputs_hidden": false
    }
   },
   "outputs": [],
   "source": [
    "temp_list = [0.2, 0.4, 0.6, 0.8, 1.0]\n",
    "prec_list = [2, 3]\n",
    "\n",
    "opt_hyper_gemini(model_predict_fns, train, test, model_hypers, num_samples=num_samples, whether_blanket=False,\n",
    "                      dataset_name=dataset_name, genai_key=genai_api_key, temp_list=temp_list, prec_list=prec_list)"
   ]
  }
 ],
 "metadata": {
  "kernelspec": {
   "display_name": "Python 3 (ipykernel)",
   "language": "python",
   "name": "python3"
  },
  "language_info": {
   "codemirror_mode": {
    "name": "ipython",
    "version": 3
   },
   "file_extension": ".py",
   "mimetype": "text/x-python",
   "name": "python",
   "nbconvert_exporter": "python",
   "pygments_lexer": "ipython3",
   "version": "3.11.8"
  }
 },
 "nbformat": 4,
 "nbformat_minor": 5
}
